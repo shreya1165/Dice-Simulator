{
 "cells": [
  {
   "cell_type": "code",
   "execution_count": 1,
   "metadata": {},
   "outputs": [
    {
     "name": "stdout",
     "output_type": "stream",
     "text": [
      " 0   0 \n",
      "   0   \n",
      " 0   0 \n",
      "/n\n",
      " 0     \n",
      "       \n",
      "     0 \n",
      "/n\n",
      " 0   0 \n",
      "   0   \n",
      " 0   0 \n",
      "/n\n"
     ]
    }
   ],
   "source": [
    "import random\n",
    "x=\"y\"\n",
    "while x==\"y\":\n",
    "    n=random.randint(1,6)\n",
    "\n",
    "    if n==1:\n",
    "        print(\"       \")\n",
    "        print(\"   0   \")\n",
    "        print(\"       \")\n",
    "\n",
    "    if n==2:\n",
    "        print(\" 0     \")\n",
    "        print(\"       \")\n",
    "        print(\"     0 \")\n",
    "\n",
    "    if n==3:\n",
    "        print(\"       \")\n",
    "        print(\" 0 0 0 \")\n",
    "        print(\"       \")\n",
    "\n",
    "    if n==4:\n",
    "        print(\" 0   0 \")\n",
    "        print(\"       \")\n",
    "        print(\" 0   0 \")\n",
    "\n",
    "    if n==5:\n",
    "        print(\" 0   0 \")\n",
    "        print(\"   0   \")\n",
    "        print(\" 0   0 \")\n",
    "\n",
    "    if n==6:\n",
    "        print(\" 0   0 \")\n",
    "        print(\" 0   0 \")\n",
    "        print(\" 0   0 \")\n",
    "\n",
    "    x= input(\"press y if you want to play, else press n : \")\n",
    "    print(\"/n\")\n"
   ]
  }
 ],
 "metadata": {
  "kernelspec": {
   "display_name": "Python 3.9.7 ('base')",
   "language": "python",
   "name": "python3"
  },
  "language_info": {
   "codemirror_mode": {
    "name": "ipython",
    "version": 3
   },
   "file_extension": ".py",
   "mimetype": "text/x-python",
   "name": "python",
   "nbconvert_exporter": "python",
   "pygments_lexer": "ipython3",
   "version": "3.9.7"
  },
  "orig_nbformat": 4,
  "vscode": {
   "interpreter": {
    "hash": "b302cdd1e032ee910f5c889c3360c28564c92ad4f326fc3102e39fbe47faee66"
   }
  }
 },
 "nbformat": 4,
 "nbformat_minor": 2
}
